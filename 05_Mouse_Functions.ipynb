{
  "cells": [
    {
      "cell_type": "markdown",
      "metadata": {
        "id": "view-in-github",
        "colab_type": "text"
      },
      "source": [
        "<a href=\"https://colab.research.google.com/github/parthvohra25/CV-Image_Basics_with_OpenCV_and_Python/blob/main/05_Mouse_Functions.ipynb\" target=\"_parent\"><img src=\"https://colab.research.google.com/assets/colab-badge.svg\" alt=\"Open In Colab\"/></a>"
      ]
    },
    {
      "cell_type": "code",
      "execution_count": null,
      "metadata": {
        "id": "COMzs1f1zs_C"
      },
      "outputs": [],
      "source": [
        "# Import Libraries\n",
        "import cv2\n",
        "import numpy as np\n",
        "\n",
        "\n",
        "# Variables\n",
        "# TRUE when the mouse button is DOWN\n",
        "# FALSE when the mouse button is UP\n",
        "drawing = False\n",
        "ex = -1\n",
        "ey = -1\n",
        "\n",
        "# Function\n",
        "# x,y, flags, param are feed from OpenCV automaticaly\n",
        "def draw_rectangle(event,x,y,flags,params):\n",
        "\n",
        "  global ex, ey, drawing\n",
        "\n",
        "  if event == cv2.EVENT_LBUTTONDOWN:\n",
        "    drawing = True\n",
        "    ex,ey = x,y\n",
        "  \n",
        "  elif event == cv2.EVENT_MOUSEMOVE:\n",
        "    if drawing == True:\n",
        "      cv2.rectangle(img,\n",
        "                  (ex,ey),\n",
        "                  (x,y),\n",
        "                  (255,0,255),\n",
        "                  -1)\n",
        "\n",
        "\n",
        "  elif cv2.EVENT_LBUTTONUP:\n",
        "    drawing = False\n",
        "    cv2.rectangle(img,\n",
        "                  (ex,ey),\n",
        "                  (x,y),\n",
        "                  (255,0,255),\n",
        "                  -1)\n",
        "\n",
        "\n",
        "\n",
        "# Connect the Function with the Callback\n",
        "img = np.zeros((512,512,3),np.int8\n",
        "               )\n",
        "cv2.namedWindow(winname='my_draw')\n",
        "\n",
        "\n",
        "# Callback\n",
        "cv2.setMouseCallback('my_draw',draw_rectangle)\n",
        "\n",
        "# Using OpenCV to show the Image\n",
        "while True:\n",
        "  cv2.imshow('my_draw', img)\n",
        "\n",
        "  if cv2.waitKey(5) & 0xFF == ord('q'):\n",
        "    break\n",
        "\n",
        "cv2.destroyAllWindows()\n"
      ]
    }
  ],
  "metadata": {
    "kernelspec": {
      "display_name": "Python 3",
      "language": "python",
      "name": "python3"
    },
    "language_info": {
      "codemirror_mode": {
        "name": "ipython",
        "version": 3
      },
      "file_extension": ".py",
      "mimetype": "text/x-python",
      "name": "python",
      "nbconvert_exporter": "python",
      "pygments_lexer": "ipython3",
      "version": "3.7.4"
    },
    "colab": {
      "provenance": [],
      "include_colab_link": true
    }
  },
  "nbformat": 4,
  "nbformat_minor": 0
}